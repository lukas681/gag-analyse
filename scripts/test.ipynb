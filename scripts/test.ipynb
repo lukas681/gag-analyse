{
 "cells": [
  {
   "cell_type": "markdown",
   "metadata": {},
   "source": [
    "# T ranscription of Podcasts"
   ]
  },
  {
   "cell_type": "code",
   "execution_count": 2,
   "metadata": {},
   "outputs": [
    {
     "name": "stderr",
     "output_type": "stream",
     "text": [
      "/mnt/c/Users/Lukas/Documents/Github/gag-analyse/venv/lib/python3.8/site-packages/tqdm/auto.py:22: TqdmWarning: IProgress not found. Please update jupyter and ipywidgets. See https://ipywidgets.readthedocs.io/en/stable/user_install.html\n",
      "  from .autonotebook import tqdm as notebook_tqdm\n",
      "The cache for model files in Transformers v4.22.0 has been updated. Migrating your old cache. This is a one-time only operation. You can interrupt this and resume the migration later on by calling `transformers.utils.move_cache()`.\n"
     ]
    },
    {
     "name": "stdout",
     "output_type": "stream",
     "text": [
      "Moving 0 files to the new cache system\n"
     ]
    },
    {
     "name": "stderr",
     "output_type": "stream",
     "text": [
      "0it [00:00, ?it/s]\n"
     ]
    }
   ],
   "source": [
    "from whisper.utils import write_vtt\n",
    " # import webvtt\n",
    "from pyannote.audio import Pipeline\n",
    "\n",
    "import whisper, os, sys, argparse, logging\n",
    "from pathlib import Path"
   ]
  },
  {
   "cell_type": "code",
   "execution_count": 8,
   "metadata": {},
   "outputs": [],
   "source": [
    "# Loads the desired models\n",
    "modelType = \"tiny\"\n",
    "model = whisper.load_model(modelType)\n",
    "pipeline = Pipeline.from_pretrained('pyannote/speaker-diarization') # Speaker recognizition"
   ]
  },
  {
   "cell_type": "code",
   "execution_count": 13,
   "metadata": {},
   "outputs": [
    {
     "ename": "SyntaxError",
     "evalue": "invalid syntax (3328921497.py, line 5)",
     "output_type": "error",
     "traceback": [
      "\u001b[0;36m  Cell \u001b[0;32mIn [13], line 5\u001b[0;36m\u001b[0m\n\u001b[0;31m    outPath = os.path.join(basePath. \"out-\", modelType)\u001b[0m\n\u001b[0m                                     ^\u001b[0m\n\u001b[0;31mSyntaxError\u001b[0m\u001b[0;31m:\u001b[0m invalid syntax\n"
     ]
    }
   ],
   "source": [
    "basePath = \"../samples/\"\n",
    "pathmp3 = os.path,join(basePath, \"audio-s.mp3\")\n",
    "pathwav = os.path.join(basePath, \"audio-s.wav\")\n",
    "\n",
    "outPath = os.path.join(basePath, \"out-\", modelType)\n",
    "os.makedirs(outPath, exist_ok=true)"
   ]
  }
 ],
 "metadata": {
  "kernelspec": {
   "display_name": "Python 3.8.10 ('venv': venv)",
   "language": "python",
   "name": "python3"
  },
  "language_info": {
   "codemirror_mode": {
    "name": "ipython",
    "version": 3
   },
   "file_extension": ".py",
   "mimetype": "text/x-python",
   "name": "python",
   "nbconvert_exporter": "python",
   "pygments_lexer": "ipython3",
   "version": "3.8.10"
  },
  "orig_nbformat": 4,
  "vscode": {
   "interpreter": {
    "hash": "9c97051d1051299a951089426a7543655dc2f47c802b5b28a1ca3ddf2afc1782"
   }
  }
 },
 "nbformat": 4,
 "nbformat_minor": 2
}
